{
 "cells": [
  {
   "cell_type": "code",
   "execution_count": 1,
   "metadata": {},
   "outputs": [],
   "source": [
    "import requests\n",
    "from lxml import etree\n",
    "import logging\n",
    "from typing import Tuple, Optional\n",
    "from io import BytesIO\n",
    "import urllib.parse\n",
    "\n",
    "class DataCiteValidator:\n",
    "    SCHEMA_URLS = {\n",
    "        \"4.4\": \"https://schema.datacite.org/meta/kernel-4.4/metadata.xsd\",\n",
    "        \"4.5\": \"https://schema.datacite.org/meta/kernel-4.5/metadata.xsd\",\n",
    "        \"pidinst\": \"https://raw.githubusercontent.com/rdawg-pidinst/schema/refs/heads/master/support/pidinst-schema-1_0.xsd\"\n",
    "    }\n",
    "    \n",
    "    def __init__(self, schema_version: str = \"4.5\"):\n",
    "        if schema_version not in self.SCHEMA_URLS:\n",
    "            raise ValueError(f\"Unsupported schema version. Choose from: {', '.join(self.SCHEMA_URLS.keys())}\")\n",
    "            \n",
    "        self.schema_version = schema_version\n",
    "        \n",
    "        class SchemaResolver(etree.Resolver):\n",
    "            def __init__(self, schema_version):\n",
    "                self.schema_version = schema_version\n",
    "            \n",
    "            def resolve(self, url, pubid, context):\n",
    "                try:\n",
    "                    # Handle different base URLs based on schema type\n",
    "                    if self.schema_version.startswith('4.'):\n",
    "                        # DataCite schemas\n",
    "                        if not url.startswith('http'):\n",
    "                            base_url = f\"https://schema.datacite.org/meta/kernel-{self.schema_version}/\"\n",
    "                            full_url = urllib.parse.urljoin(base_url, url)\n",
    "                        else:\n",
    "                            full_url = url\n",
    "                    elif self.schema_version == 'pidinst':\n",
    "                        # PIDINST schema\n",
    "                        if not url.startswith('http'):\n",
    "                            base_url = \"https://raw.githubusercontent.com/rdawg-pidinst/schema/refs/heads/master/support/\"\n",
    "                            full_url = urllib.parse.urljoin(base_url, url)\n",
    "                        else:\n",
    "                            full_url = url\n",
    "                    \n",
    "                    response = requests.get(full_url)\n",
    "                    response.raise_for_status()\n",
    "                    return self.resolve_string(response.text, context)\n",
    "                except Exception as e:\n",
    "                    logging.error(f\"Could not resolve schema include: {url}\")\n",
    "                    return None\n",
    "\n",
    "        # Fetch main schema\n",
    "        schema_url = self.SCHEMA_URLS[schema_version]\n",
    "        response = requests.get(schema_url)\n",
    "        \n",
    "        # Create parser with custom resolver\n",
    "        parser = etree.XMLParser()\n",
    "        parser.resolvers.add(SchemaResolver(schema_version))\n",
    "        \n",
    "        # Parse schema with resolver\n",
    "        try:\n",
    "            schema_tree = etree.parse(BytesIO(response.content), parser)\n",
    "            self.validator = etree.XMLSchema(schema_tree)\n",
    "        except etree.XMLSchemaParseError as e:\n",
    "            logging.error(f\"Schema parsing error: {e}\")\n",
    "            raise\n",
    "    \n",
    "    def validate_xml(self, xml_content: bytes) -> Tuple[bool, Optional[str]]:\n",
    "        \"\"\"\n",
    "        Validate XML content against DataCite schema.\n",
    "        \n",
    "        Returns:\n",
    "            Tuple of (is_valid, error_message)\n",
    "        \"\"\"\n",
    "        try:\n",
    "            xml_doc = etree.fromstring(xml_content)\n",
    "            self.validator.assertValid(xml_doc)\n",
    "            return True, None\n",
    "        except etree.DocumentInvalid as e:\n",
    "            return False, str(e)\n",
    "        except etree.XMLSyntaxError as e:\n",
    "            return False, f\"XML parsing error: {str(e)}\""
   ]
  },
  {
   "cell_type": "code",
   "execution_count": 2,
   "metadata": {},
   "outputs": [
    {
     "data": {
      "text/plain": [
       "(True, None)"
      ]
     },
     "execution_count": 2,
     "metadata": {},
     "output_type": "execute_result"
    }
   ],
   "source": [
    "validator = DataCiteValidator(schema_version=\"4.5\")\n",
    "example_datacite_url = \"https://schema.datacite.org/meta/kernel-4.5/example/datacite-example-full-v4.xml\"\n",
    "instrument_datacite_url = \"https://schema.datacite.org/meta/kernel-4.5/example/datacite-example-instrument-v4.xml\"\n",
    "response = requests.get(instrument_datacite_url)\n",
    "response.status_code\n",
    "validator.validate_xml(response.content)\n"
   ]
  },
  {
   "cell_type": "code",
   "execution_count": 3,
   "metadata": {},
   "outputs": [
    {
     "data": {
      "text/plain": [
       "(True, None)"
      ]
     },
     "execution_count": 3,
     "metadata": {},
     "output_type": "execute_result"
    }
   ],
   "source": [
    "# read a xml file:\n",
    "pidinst_validator = DataCiteValidator(schema_version='pidinst')\n",
    "file_name = \"dummy_pidinst.xml\"\n",
    "file_path = f\"datacite_pidinst_spase/sample_data/{file_name}\"\n",
    "with open(file_path, 'r', encoding='utf-8') as file:\n",
    "    xml_content = file.read()\n",
    "\n",
    "#decode the xml file:\n",
    "xml_content = xml_content.encode('utf-8')\n",
    "# validate the xml file:\n",
    "pidinst_validator.validate_xml(xml_content)"
   ]
  }
 ],
 "metadata": {
  "kernelspec": {
   "display_name": ".venv",
   "language": "python",
   "name": "python3"
  },
  "language_info": {
   "codemirror_mode": {
    "name": "ipython",
    "version": 3
   },
   "file_extension": ".py",
   "mimetype": "text/x-python",
   "name": "python",
   "nbconvert_exporter": "python",
   "pygments_lexer": "ipython3",
   "version": "3.12.7"
  }
 },
 "nbformat": 4,
 "nbformat_minor": 2
}
