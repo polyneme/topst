{
 "cells": [
  {
   "cell_type": "markdown",
   "id": "e0286798",
   "metadata": {},
   "source": [
    "# Welcome!\n",
    "This notebook intends to be a template for an end-to-end (or, perhaps more aptly, a discovery-analysis-publish) pipeline for using Open NASA data. In this version, there is much more documentation/tutorial, as we explain _what_ is supposed to be happening and _why_ we have done these things.\n",
    "\n",
    "## Bookend for PIDs\n",
    "Bookend is a sort-of template Jupyter notebook whose purpose is to demonstrate the usefulness of semantic technologies for accelerating research and facilitating [FAIR](https://www.go-fair.org/fair-principles/) and open science. This is generally completed through \"bookending\" novel code with cells that capture context and publish output with appropriate metdata.\n",
    "\n",
    "![interchange](./figures/spase-raid-pidinst.png)\n",
    "\n",
    "This `Bookend` is for emitting metadata in specific formats: SPASE, RAID, and PIDINST. The interchange format, to keep these `Bookends` thematically unified, is RDF, and thus interoperable with the larger knowledge graph ecosystem.\n",
    "\n",
    "![spase-to-kg](./figures/spase-to-kg.png)\n",
    "\n",
    "The PIDINST schema is depicted below. `hasValue` and `hasProperty` are included for explainability. The root node of a PIDINST document is the `Instrument` that has various properties. Each of these properties has a value (depicted through `hasValue`. There are several sub-root notes for collections (e.g., `InstrumentTypes` and `InstrumentType`). These relations are left unlabled. These sub-root nodes\n",
    "![pidinst-schema](./figures/pidinst-schema.png)"
   ]
  },
  {
   "cell_type": "markdown",
   "id": "1fa71a07",
   "metadata": {},
   "source": [
    "## Bookend for PIDs Requirements\n",
    "* [rdflib](https://rdflib.readthedocs.io/en/stable/)\n",
    "* [sparqlwrapper](https://sparqlwrapper.readthedocs.io/en/latest/)"
   ]
  },
  {
   "cell_type": "markdown",
   "id": "de555f28",
   "metadata": {},
   "source": [
    "## The BookBEGINNING"
   ]
  },
  {
   "cell_type": "code",
   "execution_count": 1,
   "id": "6cf6e8fd",
   "metadata": {},
   "outputs": [],
   "source": [
    "# rdflib is the general purpose python library for modifying a kg in memory and outputting it to a file\n",
    "import rdflib\n",
    "## Just some convenient classes to pull out\n",
    "from rdflib import URIRef, Graph, Namespace, Literal\n",
    "## namespaces are below. These are where identifiers \"live\", so to speak.\n",
    "from rdflib import OWL, RDF, RDFS, XSD, TIME\n",
    "\n",
    "# sparqlwrapper is used to query a triplestore\n",
    "import SPARQLWrapper\n",
    "from SPARQLWrapper import SPARQLWrapper, JSON"
   ]
  },
  {
   "cell_type": "markdown",
   "id": "6216aa76",
   "metadata": {},
   "source": [
    "## Prefixes"
   ]
  },
  {
   "cell_type": "code",
   "execution_count": 4,
   "id": "4c80e5b7",
   "metadata": {},
   "outputs": [],
   "source": [
    "# Some default prefixes for namespaces.\n",
    "# Which are generally useful\n",
    "pfs = {\n",
    "\"geo\": Namespace(\"http://www.opengis.net/ont/geosparql#\"),\n",
    "\"geof\": Namespace(\"http://www.opengis.net/def/function/geosparql/\"),\n",
    "\"sf\": Namespace(\"http://www.opengis.net/ont/sf#\"),\n",
    "\"wd\": Namespace(\"http://www.wikidata.org/entity/\"),\n",
    "\"wdt\": Namespace(\"http://www.wikidata.org/prop/direct/\"),\n",
    "\"dbo\": Namespace(\"http://dbpedia.org/ontology/\"),\n",
    "\"time\": Namespace(\"http://www.w3.org/2006/time#\"),\n",
    "\"ssn\": Namespace(\"http://www.w3.org/ns/ssn/\"),\n",
    "\"sosa\": Namespace(\"http://www.w3.org/ns/sosa/\"),\n",
    "\"cdt\": Namespace(\"http://w3id.org/lindt/custom_datatypes#\"),\n",
    "\"ex\": Namespace(\"https://example.com/\"),\n",
    "\"rdf\": RDF,\n",
    "\"rdfs\": RDFS,\n",
    "\"xsd\": XSD,\n",
    "\"owl\": OWL,\n",
    "\"time\": TIME\n",
    "}\n",
    "\n",
    "# The namespace and prefixes which we will use for the metadata storage\n",
    "name_space = \"https://polyneme.xyz/\"\n",
    "pfs[\"polyr\"] = Namespace(f\"{name_space}lod/resource#\")\n",
    "pfs[\"poly-ont\"] =  Namespace(f\"{name_space}lod/ontology#\")"
   ]
  },
  {
   "cell_type": "markdown",
   "id": "87b57280",
   "metadata": {},
   "source": [
    "## KG Data Structure\n",
    "The KG data structure, i.e., what is storing the metadata (for now) stays in memory as `Graph` from `rdflib`."
   ]
  },
  {
   "cell_type": "code",
   "execution_count": 5,
   "id": "9afa019d",
   "metadata": {},
   "outputs": [],
   "source": [
    "def init_kg(prefixes=pfs):\n",
    "    kg = Graph()\n",
    "    for prefix in pfs:\n",
    "        kg.bind(prefix, pfs[prefix])\n",
    "    return kg\n",
    "# rdf:type shortcut\n",
    "a = pfs[\"rdf\"][\"type\"]\n",
    "\n",
    "# Initialize an empty graph\n",
    "graph = init_kg()"
   ]
  },
  {
   "cell_type": "code",
   "execution_count": null,
   "id": "a2ddd50f",
   "metadata": {},
   "outputs": [],
   "source": []
  }
 ],
 "metadata": {
  "kernelspec": {
   "display_name": "Python 3 (ipykernel)",
   "language": "python",
   "name": "python3"
  },
  "language_info": {
   "codemirror_mode": {
    "name": "ipython",
    "version": 3
   },
   "file_extension": ".py",
   "mimetype": "text/x-python",
   "name": "python",
   "nbconvert_exporter": "python",
   "pygments_lexer": "ipython3",
   "version": "3.10.12"
  }
 },
 "nbformat": 4,
 "nbformat_minor": 5
}
