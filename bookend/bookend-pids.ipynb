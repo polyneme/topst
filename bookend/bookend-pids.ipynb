{
 "cells": [
  {
   "cell_type": "markdown",
   "id": "e0286798",
   "metadata": {},
   "source": [
    "# Welcome!\n",
    "This notebook intends to be a template for an end-to-end (or, perhaps more aptly, a discovery-analysis-publish) pipeline for using Open NASA data. In this version, there is much more documentation/tutorial, as we explain _what_ is supposed to be happening and _why_ we have done these things.\n",
    "\n",
    "![bookend-for-pids-context](./figures/bookend4pids-context.png)\n",
    "\n",
    "Essentially, we want to ensure maximal interoperability and discoverability. In particular, we wish to expand the various representations of SPASE records into other PID formats, namely: ROR (Research Organization Registry), RAID (Research Activity ID), PIDINST\n",
    "\n",
    "## Bookend for PIDs\n",
    "Bookend is a sort-of template Jupyter notebook whose purpose is to demonstrate the usefulness of semantic technologies for accelerating research and facilitating [FAIR](https://www.go-fair.org/fair-principles/) and open science. This is generally completed through \"bookending\" novel code with cells that capture context and publish output with appropriate metdata.\n",
    "\n",
    "![interchange](./figures/spase-raid-pidinst.png)\n",
    "\n",
    "This `Bookend` is for emitting metadata in specific formats: SPASE, RAID, and PIDINST. The interchange format, to keep these `Bookends` thematically unified, is RDF, and thus interoperable with the larger knowledge graph ecosystem.\n",
    "\n",
    "![spase-to-kg](./figures/spase-to-kg.png)\n",
    "\n",
    "The PIDINST schema is depicted below. `hasValue` and `hasProperty` are included for explainability. The root node of a PIDINST document is the `Instrument` that has various properties. Each of these properties (in the left box) has a value (depicted through `hasValue`). There are several sub-root nodes for collections (e.g., `InstrumentTypes` and `InstrumentType`). These relations are left unlabled. These sub-root nodes may also have values.\n",
    "![pidinst-schema](./figures/pidinst-schema.png)"
   ]
  },
  {
   "cell_type": "markdown",
   "id": "1fa71a07",
   "metadata": {},
   "source": [
    "## Bookend for PIDs Requirements\n",
    "* [rdflib](https://rdflib.readthedocs.io/en/stable/)\n",
    "* [sparqlwrapper](https://sparqlwrapper.readthedocs.io/en/latest/)"
   ]
  },
  {
   "cell_type": "markdown",
   "id": "de555f28",
   "metadata": {},
   "source": [
    "## The BookBEGINNING"
   ]
  },
  {
   "cell_type": "code",
   "execution_count": 1,
   "id": "6cf6e8fd",
   "metadata": {},
   "outputs": [],
   "source": [
    "# rdflib is the general purpose python library for modifying a kg in memory and outputting it to a file\n",
    "import rdflib\n",
    "## Just some convenient classes to pull out\n",
    "from rdflib import URIRef, Graph, Namespace, Literal\n",
    "## namespaces are below. These are where identifiers \"live\", so to speak.\n",
    "from rdflib import OWL, RDF, RDFS, XSD, TIME\n",
    "\n",
    "# sparqlwrapper is used to query a triplestore\n",
    "import SPARQLWrapper\n",
    "from SPARQLWrapper import SPARQLWrapper, JSON"
   ]
  },
  {
   "cell_type": "markdown",
   "id": "6216aa76",
   "metadata": {},
   "source": [
    "## Prefixes"
   ]
  },
  {
   "cell_type": "code",
   "execution_count": 13,
   "id": "4c80e5b7",
   "metadata": {},
   "outputs": [],
   "source": [
    "# Some default prefixes for namespaces.\n",
    "# Which are generally useful\n",
    "pfs = {\n",
    "\"geo\": Namespace(\"http://www.opengis.net/ont/geosparql#\"),\n",
    "\"geof\": Namespace(\"http://www.opengis.net/def/function/geosparql/\"),\n",
    "\"sf\": Namespace(\"http://www.opengis.net/ont/sf#\"),\n",
    "\"wd\": Namespace(\"http://www.wikidata.org/entity/\"),\n",
    "\"wdt\": Namespace(\"http://www.wikidata.org/prop/direct/\"),\n",
    "\"dbo\": Namespace(\"http://dbpedia.org/ontology/\"),\n",
    "\"time\": Namespace(\"http://www.w3.org/2006/time#\"),\n",
    "\"ssn\": Namespace(\"http://www.w3.org/ns/ssn/\"),\n",
    "\"sosa\": Namespace(\"http://www.w3.org/ns/sosa/\"),\n",
    "\"cdt\": Namespace(\"http://w3id.org/lindt/custom_datatypes#\"),\n",
    "\"ex\": Namespace(\"https://example.com/\"),\n",
    "\"rdf\": RDF,\n",
    "\"rdfs\": RDFS,\n",
    "\"xsd\": XSD,\n",
    "\"owl\": OWL,\n",
    "\"time\": TIME\n",
    "}\n",
    "\n",
    "# The namespace and prefixes which we will use for the metadata storage\n",
    "name_space = \"https://polyneme.xyz/\"\n",
    "pfs[\"polyr\"] = Namespace(f\"{name_space}lod/resource#\")\n",
    "pfs[\"poly-ont\"] =  Namespace(f\"{name_space}lod/ontology#\")\n",
    "ns1 = Namespace(\"http://www.spase-group.org/data/schema/\")\n",
    "ns2 = Namespace(\"<http://purl.org/dc/elements/1.1/\")"
   ]
  },
  {
   "cell_type": "markdown",
   "id": "87b57280",
   "metadata": {},
   "source": [
    "## KG Data Structure\n",
    "The KG data structure, i.e., what is storing the metadata (for now) stays in memory as `Graph` from `rdflib`."
   ]
  },
  {
   "cell_type": "code",
   "execution_count": 3,
   "id": "9afa019d",
   "metadata": {},
   "outputs": [],
   "source": [
    "def init_kg(prefixes=pfs):\n",
    "    kg = Graph()\n",
    "    for prefix in pfs:\n",
    "        kg.bind(prefix, pfs[prefix])\n",
    "    return kg\n",
    "# rdf:type shortcut\n",
    "a = pfs[\"rdf\"][\"type\"]\n",
    "\n",
    "# Initialize an empty graph\n",
    "graph = init_kg()"
   ]
  },
  {
   "cell_type": "markdown",
   "id": "342167f1",
   "metadata": {},
   "source": [
    "## Convert SPASE Record to Interchange Format (RDF)\n",
    "This code is heavily based on parallel work within the Polyneme TOPST effort for converting SPASE records taken from CDAWeb to RDF. It can be found in the appropriate online repository: [topst-spase-rdf-tools](https://github.com/polyneme/topst-spase-rdf-tools)."
   ]
  },
  {
   "cell_type": "code",
   "execution_count": 11,
   "id": "2cff17a7",
   "metadata": {
    "scrolled": false
   },
   "outputs": [
    {
     "name": "stderr",
     "output_type": "stream",
     "text": [
      "========= xsdata v24.11 / Python 3.10.12 / Platform linux =========\n",
      "\n",
      "Parsing schema file:///home/cogan/repos/topst/bookend/data/spase-2.6.0.xsd\n",
      "Compiling schema file:///home/cogan/repos/topst/bookend/data/spase-2.6.0.xsd\n",
      "Builder: 319 main and 0 inner classes\n",
      "Analyzer input: 319 main and 0 inner classes\n",
      "Analyzer output: 122 main and 0 inner classes\n",
      "Generating package: init\n",
      "Generating package: spase_model.spase_2_6_0\n"
     ]
    },
    {
     "name": "stdout",
     "output_type": "stream",
     "text": [
      "Python model created in: spase_model\n"
     ]
    },
    {
     "name": "stderr",
     "output_type": "stream",
     "text": [
      "Processing XML files: 100%|███████████████████████| 1/1 [00:00<00:00, 37.91it/s]\n"
     ]
    },
    {
     "data": {
      "text/plain": [
       "<Graph identifier=N7f249075e1774fdc93545a3b534ef025 (<class 'rdflib.graph.Graph'>)>"
      ]
     },
     "execution_count": 11,
     "metadata": {},
     "output_type": "execute_result"
    }
   ],
   "source": [
    "from utils.spase_to_rdf import create_python_model_from_xsd\n",
    "from utils.spase_to_rdf import create_owl_from_python_module\n",
    "from utils.spase_to_rdf import xml_to_rdf\n",
    "import xml.etree.ElementTree as ET\n",
    "\n",
    "# Using the code from `topst-spase-rdf-tools` create an RDF graph of the SPASE record\n",
    "# This currently loads exactly one sample record: PT0.512S\n",
    "create_python_model_from_xsd(\"./data/spase-2.6.0.xsd\", \"spase_model\")\n",
    "create_owl_from_python_module(\"spase_model\", \"./data/spase.owl\")\n",
    "xml_to_rdf(\"./data/spase-data/\", \"spase_model\", \"./data/\", partition_number=1)\n",
    "\n",
    "# Load the graph into memory\n",
    "graph.parse(\"./data/spase.ttl\")"
   ]
  },
  {
   "cell_type": "code",
   "execution_count": 21,
   "id": "b682ee3f",
   "metadata": {},
   "outputs": [
    {
     "name": "stdout",
     "output_type": "stream",
     "text": [
      "SMWG Instrument GOES 12 MAG\n"
     ]
    }
   ],
   "source": [
    "for s,p,o in graph.triples((None, a, ns1[\"Instrument\"])):\n",
    "    break # There should only be one anyway # TODO make this check\n",
    "instrument_name = s.split(\"/\")[-1].replace(\"_\", \" \")\n",
    "print(instrument_name)\n",
    "\n",
    "for s,p,o in graph.triples((None, a, ns1[\"NumericalData\"])):\n",
    "    pass\n",
    "\n",
    "# Extract additional fields"
   ]
  },
  {
   "cell_type": "markdown",
   "id": "67b6a9c3",
   "metadata": {},
   "source": [
    "## Emit PIDINST Record\n",
    "\n",
    "![kg-to-pidints](./figures/kg-to-pidinst.png)\n",
    "![spase-pidinst-mapping](./figures/spase-pidinst-mapping.png)"
   ]
  },
  {
   "cell_type": "code",
   "execution_count": 25,
   "id": "44374319",
   "metadata": {},
   "outputs": [],
   "source": [
    "import xml.etree.ElementTree as ET\n",
    "\n",
    "# Create the root element\n",
    "root = ET.Element(\"instrument\")\n",
    "# Properties from the PIDINST schema\n",
    "properties = [\"identifier\", \"schemaVersion\", \"landingPage\", \"name\", \"owners\", \"manufacturers\", \"instrumentTypes\", \"description\", \"relatedIdentifiers\", \"alternateIdentifiers\"]\n",
    "# Mapping the values from the SPASE RDF (or other known values) to the PIDINST Schema\n",
    "values = {\n",
    "    \"identifier\": \"\",\n",
    "    \"schemaVersion\": \"1.0.0\", # default value\n",
    "    \"landingPage\": \"\",\n",
    "    \"name\": instrument_name, \n",
    "    \"description\": \"\"\n",
    "}\n",
    "\n",
    "# For each of the known properties\n",
    "for prop in properties:\n",
    "    # \n",
    "    try:\n",
    "        if len(values[prop]) != 0: # detects empty collections and empty values\n",
    "            child = ET.SubElement(root, prop)\n",
    "            child.text = values[prop]\n",
    "            \n",
    "            if prop[-1] == \"s\": # A shortcut for detecting collections\n",
    "                member = prop[:1]\n",
    "                member_node = ET.SubElement(child, member)\n",
    "                # member.set(\"name\", \"value\")\n",
    "    except KeyError as e:\n",
    "        continue\n",
    "\n",
    "# Convert the tree to a string\n",
    "xml_string = ET.tostring(root, encoding=\"unicode\")\n",
    "\n",
    "# Write the XML file\n",
    "with open(\"./data/pidinst.xml\", \"w\") as f:\n",
    "    f.write(xml_string)"
   ]
  },
  {
   "cell_type": "markdown",
   "id": "2c4a59dc",
   "metadata": {},
   "source": [
    "## Emit RAID Record"
   ]
  },
  {
   "cell_type": "code",
   "execution_count": null,
   "id": "f0ded5ee",
   "metadata": {},
   "outputs": [],
   "source": []
  },
  {
   "cell_type": "markdown",
   "id": "4f83df5f",
   "metadata": {},
   "source": [
    "## Emit ROR Record"
   ]
  },
  {
   "cell_type": "code",
   "execution_count": null,
   "id": "4ccfe7c0",
   "metadata": {},
   "outputs": [],
   "source": []
  }
 ],
 "metadata": {
  "kernelspec": {
   "display_name": "Python 3 (ipykernel)",
   "language": "python",
   "name": "python3"
  },
  "language_info": {
   "codemirror_mode": {
    "name": "ipython",
    "version": 3
   },
   "file_extension": ".py",
   "mimetype": "text/x-python",
   "name": "python",
   "nbconvert_exporter": "python",
   "pygments_lexer": "ipython3",
   "version": "3.10.12"
  }
 },
 "nbformat": 4,
 "nbformat_minor": 5
}
